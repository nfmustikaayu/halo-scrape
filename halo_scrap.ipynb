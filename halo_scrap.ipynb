{
 "cells": [
  {
   "cell_type": "code",
   "execution_count": 10,
   "metadata": {},
   "outputs": [],
   "source": [
    "from selenium import webdriver\n",
    "import pandas as pd\n",
    "from selenium.webdriver.common.by import By\n",
    "from selenium.webdriver.common.action_chains import ActionChains"
   ]
  },
  {
   "cell_type": "code",
   "execution_count": 11,
   "metadata": {},
   "outputs": [],
   "source": [
    "url = \"https://www.bhinneka.com/jual?cari=tripod\"\n",
    "driver = webdriver.Chrome()\n",
    "driver.get(url)"
   ]
  },
  {
   "cell_type": "code",
   "execution_count": 12,
   "metadata": {},
   "outputs": [
    {
     "name": "stdout",
     "output_type": "stream",
     "text": [
      "[('LIBEC Tripod LX7', '11416000', 'Tanjung Priok', 'Bhinneka'), ('TAKARA Tripod Eco-183A', '181000', 'Tanjung Priok', 'Bhinneka'), ('TAKARA Rover 66 Tripod', '857000', 'Tanjung Priok', 'Bhinneka'), ('TAKARA Tripod ECO 173A', '160500', 'Tanjung Priok', 'Bhinneka'), ('JOBY Micro Hybrid Tripod', '242500', 'Tanjung Priok', 'Bhinneka'), ('FOTOPRO Tripod DV-2', '1800000', 'Tanjung Priok', 'Bhinneka'), ('E-IMAGE EG04A2 Tripod Kit', '4950000', 'Tanjung Priok', 'Bhinneka'), ('FOTOPRO Camera Tripod S3 Green', '580000', 'Tanjung Priok', 'Bhinneka'), ('FOTOPRO Camera Tripod S3 Black', '580000', 'Tanjung Priok', 'Bhinneka'), ('LIBEC Tripod ALLEX-S8-KIT', '14127500', 'Tanjung Priok', 'Bhinneka'), ('TAKARA Tripod Eco-196A Black', '211000', 'Tanjung Priok', 'Bhinneka'), ('TAKARA Lightweight Video Tripod VIT-234', '403000', 'Tanjung Priok', 'Bhinneka'), ('BEIKE Q999C Carbon Fiber Tripod Monopod', '1514000', 'Tanjung Priok', 'Bhinneka'), ('FOTOPRO X-Go Tripod Carbon Fiber', '2149500', 'Tanjung Priok', 'Bhinneka'), ('TAKARA Hydro B-18 Video Tripod', '1815500', 'Tanjung Priok', 'Bhinneka'), ('Ulanzi TT-20S Flexible Octopus Tripod', '197000', 'Tanjung Priok', 'Bhinneka'), ('TAKARA Hydro A-16 Video Tripod', '1361500', 'Tanjung Priok', 'Bhinneka'), ('Ulanzi MT-07 Flexible Ball Head Tripod', '157000', 'Tanjung Priok', 'Bhinneka'), ('LIBEC TH-X Head and Tripod System', '5201000', 'Tanjung Priok', 'Bhinneka'), ('TAKARA Tripod ECO 193A', '236500', 'Tanjung Priok', 'Bhinneka'), ('ATTANTA Tripod TVM-2239', '554000', 'Tanjung Priok', 'Bhinneka'), ('LIBEC LX7M Tripod System with Mid-Level Spreader', '11416000', 'Tanjung Priok', 'Bhinneka'), ('Cambofoto Tripod Monopod SAB-234', '554000', 'Tanjung Priok', 'Bhinneka'), ('LIBEC TH-Z Tripod System with Mid-Level Spreade', '7483000', 'Tanjung Priok', 'Bhinneka'), ('FOTOPRO RM 80 + SJ 86 Flexible Tripod', '191000', 'Tanjung Priok', 'Bhinneka'), ('DATALITE Tripod 70\"', '807500', 'Tanjung Priok', 'Bhinneka'), ('BEIKE BK555V Tripod', '875000', 'Tanjung Priok', 'Bhinneka'), ('BEIKE Q298H Tripod', '995000', 'Tanjung Priok', 'Bhinneka'), ('Sewa Tripod / Hari', '15000', 'Pademangan', 'One Click Studio'), ('BEIKE Tripod BK-530', '949000', 'Tanjung Priok', 'Bhinneka'), ('Letaec Tripod Screen 70 inch', '757000', 'Tanjung Priok', 'Bhinneka'), ('MANFROTTO MT055XPRO3 Aluminium Tripod', '4160000', 'Tanjung Priok', 'Bhinneka'), ('FOTOPRO Carbon Tripod T64', '5045500', 'Tanjung Priok', 'Bhinneka'), ('WEIFENG Tripod WT-330A', '201000', 'Tanjung Priok', 'Bhinneka'), ('Camera Corner Tripod Mini', '35500', 'Kramat Jati', 'Camera Corner'), ('SOMITA Tripod ST-3520', '261500', 'Tanjung Priok', 'Bhinneka'), ('BEIKE Tripod QZSD-Q999H', '1008500', 'Tanjung Priok', 'Bhinneka'), ('BENRO KH26P Video Tripod', '3219000', 'Tanjung Priok', 'Bhinneka'), ('DRAPER Tripod Screen 96 [TSDR2424]', '18775500', 'Tanjung Priok', 'Bhinneka'), ('TAKARA Tripod ECO 193A', '200000', 'Kemayoran', 'PT ALGRUP JAYA SENTOSA')]\n"
     ]
    }
   ],
   "source": [
    "ac = ActionChains(driver)\n",
    "products=[]\n",
    "items = driver.find_elements(By.CSS_SELECTOR,'div.col.css-mz9zn6')\n",
    "for item in items:\n",
    "    product_name = item.find_element(By.CSS_SELECTOR,'p.css-194yrqz').text\n",
    "    product_price = item.find_element(By.CSS_SELECTOR,'div.price').text.replace('Rp','').replace('.','').strip()\n",
    "    product_location = item.find_element(By.CSS_SELECTOR,'div.merchant-info.css-ejq1bh').find_elements(By.TAG_NAME, 'span')[0].text\n",
    "\n",
    "\n",
    "    mo = item.find_element(By.CSS_SELECTOR, 'a.product-wrapper.css-puqsxn')\n",
    "    ac.move_to_element(mo).perform()\n",
    "    shopper = item.find_element(By.CSS_SELECTOR, 'div.merchant-info.css-ejq1bh').find_elements(By.TAG_NAME, 'span')[1].text\n",
    "\n",
    "    products.append(\n",
    "        (product_name, product_price, product_location, shopper)\n",
    "    )\n",
    "print(products)"
   ]
  },
  {
   "cell_type": "code",
   "execution_count": 13,
   "metadata": {},
   "outputs": [
    {
     "name": "stdout",
     "output_type": "stream",
     "text": [
      "                                        product_name product_price  \\\n",
      "0                                   LIBEC Tripod LX7      11416000   \n",
      "1                             TAKARA Tripod Eco-183A        181000   \n",
      "2                             TAKARA Rover 66 Tripod        857000   \n",
      "3                             TAKARA Tripod ECO 173A        160500   \n",
      "4                           JOBY Micro Hybrid Tripod        242500   \n",
      "5                                FOTOPRO Tripod DV-2       1800000   \n",
      "6                          E-IMAGE EG04A2 Tripod Kit       4950000   \n",
      "7                     FOTOPRO Camera Tripod S3 Green        580000   \n",
      "8                     FOTOPRO Camera Tripod S3 Black        580000   \n",
      "9                          LIBEC Tripod ALLEX-S8-KIT      14127500   \n",
      "10                      TAKARA Tripod Eco-196A Black        211000   \n",
      "11           TAKARA Lightweight Video Tripod VIT-234        403000   \n",
      "12           BEIKE Q999C Carbon Fiber Tripod Monopod       1514000   \n",
      "13                  FOTOPRO X-Go Tripod Carbon Fiber       2149500   \n",
      "14                    TAKARA Hydro B-18 Video Tripod       1815500   \n",
      "15             Ulanzi TT-20S Flexible Octopus Tripod        197000   \n",
      "16                    TAKARA Hydro A-16 Video Tripod       1361500   \n",
      "17            Ulanzi MT-07 Flexible Ball Head Tripod        157000   \n",
      "18                 LIBEC TH-X Head and Tripod System       5201000   \n",
      "19                            TAKARA Tripod ECO 193A        236500   \n",
      "20                           ATTANTA Tripod TVM-2239        554000   \n",
      "21  LIBEC LX7M Tripod System with Mid-Level Spreader      11416000   \n",
      "22                  Cambofoto Tripod Monopod SAB-234        554000   \n",
      "23   LIBEC TH-Z Tripod System with Mid-Level Spreade       7483000   \n",
      "24             FOTOPRO RM 80 + SJ 86 Flexible Tripod        191000   \n",
      "25                               DATALITE Tripod 70\"        807500   \n",
      "26                               BEIKE BK555V Tripod        875000   \n",
      "27                                BEIKE Q298H Tripod        995000   \n",
      "28                                Sewa Tripod / Hari         15000   \n",
      "29                               BEIKE Tripod BK-530        949000   \n",
      "30                      Letaec Tripod Screen 70 inch        757000   \n",
      "31             MANFROTTO MT055XPRO3 Aluminium Tripod       4160000   \n",
      "32                         FOTOPRO Carbon Tripod T64       5045500   \n",
      "33                            WEIFENG Tripod WT-330A        201000   \n",
      "34                         Camera Corner Tripod Mini         35500   \n",
      "35                             SOMITA Tripod ST-3520        261500   \n",
      "36                           BEIKE Tripod QZSD-Q999H       1008500   \n",
      "37                          BENRO KH26P Video Tripod       3219000   \n",
      "38                DRAPER Tripod Screen 96 [TSDR2424]      18775500   \n",
      "39                            TAKARA Tripod ECO 193A        200000   \n",
      "\n",
      "   product_location                 shopper  \n",
      "0     Tanjung Priok                Bhinneka  \n",
      "1     Tanjung Priok                Bhinneka  \n",
      "2     Tanjung Priok                Bhinneka  \n",
      "3     Tanjung Priok                Bhinneka  \n",
      "4     Tanjung Priok                Bhinneka  \n",
      "5     Tanjung Priok                Bhinneka  \n",
      "6     Tanjung Priok                Bhinneka  \n",
      "7     Tanjung Priok                Bhinneka  \n",
      "8     Tanjung Priok                Bhinneka  \n",
      "9     Tanjung Priok                Bhinneka  \n",
      "10    Tanjung Priok                Bhinneka  \n",
      "11    Tanjung Priok                Bhinneka  \n",
      "12    Tanjung Priok                Bhinneka  \n",
      "13    Tanjung Priok                Bhinneka  \n",
      "14    Tanjung Priok                Bhinneka  \n",
      "15    Tanjung Priok                Bhinneka  \n",
      "16    Tanjung Priok                Bhinneka  \n",
      "17    Tanjung Priok                Bhinneka  \n",
      "18    Tanjung Priok                Bhinneka  \n",
      "19    Tanjung Priok                Bhinneka  \n",
      "20    Tanjung Priok                Bhinneka  \n",
      "21    Tanjung Priok                Bhinneka  \n",
      "22    Tanjung Priok                Bhinneka  \n",
      "23    Tanjung Priok                Bhinneka  \n",
      "24    Tanjung Priok                Bhinneka  \n",
      "25    Tanjung Priok                Bhinneka  \n",
      "26    Tanjung Priok                Bhinneka  \n",
      "27    Tanjung Priok                Bhinneka  \n",
      "28       Pademangan        One Click Studio  \n",
      "29    Tanjung Priok                Bhinneka  \n",
      "30    Tanjung Priok                Bhinneka  \n",
      "31    Tanjung Priok                Bhinneka  \n",
      "32    Tanjung Priok                Bhinneka  \n",
      "33    Tanjung Priok                Bhinneka  \n",
      "34      Kramat Jati           Camera Corner  \n",
      "35    Tanjung Priok                Bhinneka  \n",
      "36    Tanjung Priok                Bhinneka  \n",
      "37    Tanjung Priok                Bhinneka  \n",
      "38    Tanjung Priok                Bhinneka  \n",
      "39        Kemayoran  PT ALGRUP JAYA SENTOSA  \n"
     ]
    }
   ],
   "source": [
    "import pandas as pd\n",
    "\n",
    "df = pd.DataFrame(products, columns=['product_name', 'product_price', 'product_location', 'shopper'])\n",
    "print(df)"
   ]
  },
  {
   "cell_type": "code",
   "execution_count": 14,
   "metadata": {},
   "outputs": [
    {
     "name": "stdout",
     "output_type": "stream",
     "text": [
      "Data Saved\n"
     ]
    }
   ],
   "source": [
    "df.to_excel('hasil_scrap.xlsx', index=False)\n",
    "print('Data Saved')"
   ]
  },
  {
   "cell_type": "code",
   "execution_count": null,
   "metadata": {},
   "outputs": [],
   "source": []
  }
 ],
 "metadata": {
  "kernelspec": {
   "display_name": "Python 3",
   "language": "python",
   "name": "python3"
  },
  "language_info": {
   "codemirror_mode": {
    "name": "ipython",
    "version": 3
   },
   "file_extension": ".py",
   "mimetype": "text/x-python",
   "name": "python",
   "nbconvert_exporter": "python",
   "pygments_lexer": "ipython3",
   "version": "3.7.3"
  },
  "orig_nbformat": 4
 },
 "nbformat": 4,
 "nbformat_minor": 2
}
